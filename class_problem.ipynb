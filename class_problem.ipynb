{
 "cells": [
  {
   "cell_type": "markdown",
   "metadata": {
    "collapsed": true,
    "pycharm": {
     "name": "#%% md\n"
    }
   },
   "source": [
    "# 範例 砲彈問題\n",
    "#### 假設忽略風阻，地心引力加速度為 9.8 m/s，亦即如果將一個物體以 20 m/s 的速度垂直向上拋出， 一秒鐘之後，它的向上速度將減為 20 - 9.8 = 10.2 m/s，再過一秒則減為 10.2 - 9.8 = 0.4 m/s， 接著它很快的就要向下墜落了 (當向上速度為0時)\n",
    "#### ▸ 可以利用微積分概念來計算在某個時間點物體的位置，本程式不用微積分， 而是利用模擬的方式來一點一點的追蹤砲彈\n",
    "#### ▸ 計算砲彈的飛行需考慮兩項資料：\n",
    "#### ✶ 高度 (Height)：如此才能知道何時落地\n",
    "#### ✶ 距離 (Distance)：以便追蹤砲彈飛了多遠\n",
    "#### ▸ 砲彈的位置以二維資料表示：(px, py)，px 為距離 (預設為 0)，py 為高度\n",
    "#### ✶ 每個時間間隔追蹤一次砲彈位置：在此間隔中，砲彈向上移動了一些位置到達 py， 並且向前移動了一些位置到達 px\n",
    "#### ✶ 因為忽略風阻，因此 x 方向的移動速度是常數\n",
    "#### ✶ y 方向的移動速度由地心引力控制：向上飛行為正數，向下墜落則為負數"
   ]
  },
  {
   "cell_type": "code",
   "execution_count": null,
   "outputs": [],
   "source": [
    "import math\n",
    "\n",
    "def main():\n",
    "    #設定砲彈初速 射擊角度 初始位置 射擊時間\n",
    "    angle = eval(input('Launch angle (in degrees): '))\n",
    "    v = eval(input('Initial velocity (in meters/second): '))\n",
    "    py = eval(input('Initial height (in meters): '))\n",
    "    interval = eval(input('The interval: '))\n",
    "\n",
    "    # 依據砲彈初速與射擊角度 計算水平速度與垂直速度\n",
    "    theta = math.radians(angle) #math.cos and math.sin所要求\n",
    "    vx = v * math.cos(theta)\n",
    "    vy = v * math.sin(theta)\n",
    "\n",
    "    # 迭代直至砲彈落地(py=0)\n",
    "    print('The trajectory:')\n",
    "    px = 0.0\n",
    "    while py >= 0.0:\n",
    "        # Calculate position and velocity in interval seconds\n",
    "        px += interval*vx\n",
    "        vy2 = vy - interval*9.8\n",
    "        py += interval*(vy+vy2)/2.0\n",
    "        vy = vy2\n",
    "        print(f'{px:>5.1f}\\t{py:>5.1f}')    # Print the trajectory of the cannonball\n",
    "\n",
    "    print(f'\\nDistance traveled: {px:.1f} meters.')\n",
    "\n",
    "main()\n"
   ],
   "metadata": {
    "collapsed": false,
    "pycharm": {
     "name": "#%%\n"
    }
   }
  },
  {
   "cell_type": "markdown",
   "source": [
    "# 模組化"
   ],
   "metadata": {
    "collapsed": false
   }
  },
  {
   "cell_type": "code",
   "execution_count": null,
   "outputs": [],
   "source": [
    "import math\n",
    "\n",
    "\n",
    "def main():\n",
    "    angle, v, py, interval = getInputs()\n",
    "    vx, vy = getXYComponents(v, angle)\n",
    "    px = simulate(interval, py, vx, vy)\n",
    "    print(f'\\nDistance traveled: {px:.1f} meters.')\n",
    "\n",
    "\n",
    "def getInputs():\n",
    "    angle = eval(input('Launch angle (in degrees): '))\n",
    "    v = eval(input('Initial velocity (in meters/second): '))\n",
    "    py = eval(input('Initial height (in meters): '))\n",
    "    interval = eval(input('Interval between position calculations: '))\n",
    "    return angle, v, py, interval\n",
    "\n",
    "\n",
    "def getXYComponents(v, angle):\n",
    "    theta = math.radians(angle)\n",
    "    vx = v * math.cos(theta)\n",
    "    vy = v * math.sin(theta)\n",
    "    return vx, vy\n",
    "\n",
    "\n",
    "def simulate(interval, py, vx, vy):\n",
    "    print('\\nThe trajectory:')\n",
    "    px = 0.0\n",
    "    while py >= 0.0:\n",
    "        px += interval*vx\n",
    "        vy2 = vy - interval*9.8\n",
    "        py += interval*(vy+vy2)/2.0\n",
    "        vy = vy2\n",
    "        print(f'{px:>5.1f}\\t{py:>5.1f}')    # Print the trajectory of the cannonball\n",
    "    return px\n",
    "\n",
    "\n",
    "if __name__ == '__main__':\n",
    "    main()\n"
   ],
   "metadata": {
    "collapsed": false,
    "pycharm": {
     "name": "#%%\n"
    }
   }
  },
  {
   "cell_type": "markdown",
   "source": [
    "# 物件化設計\n",
    "#### ✶ 很顯然的，此版本更為簡潔，而且清楚說明演算法的涵義：\n",
    "#### 1.先收集必要資訊\n",
    "#### 2.產生一個砲彈物件\n",
    "#### 3.呼叫砲彈物件的模擬彈道方法\n",
    "#### 4.最後印出結果"
   ],
   "metadata": {
    "collapsed": false
   }
  },
  {
   "cell_type": "code",
   "execution_count": null,
   "outputs": [],
   "source": [
    "import math\n",
    "\n",
    "class bomb:\n",
    "    def __init__(self,angle,v,py):\n",
    "        self.px = 0\n",
    "        self.py = py\n",
    "        theta = math.radians(angle) \n",
    "        self.vx = v * math.cos(theta) #只需將\n",
    "        self.vy = v * math.sin(theta)\n",
    "\n",
    "    def simulate(self,interval):\n",
    "        while self.py >= 0.0:\n",
    "            self.px += interval*self.vx\n",
    "            vy2 = self.vy - 9.8 * interval\n",
    "        \n",
    "            self.py += 0.5 * (self.vy + vy2)* interval\n",
    "            self.vy = vy2\n",
    "            print('px = %5.1f \\t py = %5.1f' %(self.px,self.py))\n",
    "        \n",
    "def getInputs(): #收集必要資訊\n",
    "    angle = eval(input('Launch angle (in degrees): '))\n",
    "    v = eval(input('Initial velocity (in meters/second): '))\n",
    "    py = eval(input('Initial height (in meters): '))\n",
    "    interval = eval(input('Interval between position calculations: '))\n",
    "    return angle, v, py, interval\n",
    "\n",
    "def main():\n",
    "    angle,v,py,interval = getInputs() #收集必要資訊\n",
    "    Bomb = bomb(angle,v,py)           #產生一個物件\n",
    "    Bomb.simulate(interval)           #呼叫模擬彈道方法\n",
    "    print('Travel distance: %5.1f meters'%Bomb.px)#印出結果\n",
    "    \n",
    "main()\n",
    "\n",
    "\n",
    "\n"
   ],
   "metadata": {
    "collapsed": false,
    "pycharm": {
     "name": "#%%\n"
    }
   }
  }
 ],
 "metadata": {
  "language_info": {
   "codemirror_mode": {
    "name": "ipython",
    "version": 2
   },
   "file_extension": ".py",
   "mimetype": "text/x-python",
   "name": "python",
   "nbconvert_exporter": "python",
   "pygments_lexer": "ipython2",
   "version": "2.7.6"
  },
  "kernelspec": {
   "name": "python3",
   "language": "python",
   "display_name": "Python 3"
  },
  "pycharm": {
   "stem_cell": {
    "cell_type": "raw",
    "source": [],
    "metadata": {
     "collapsed": false
    }
   }
  }
 },
 "nbformat": 4,
 "nbformat_minor": 0
}