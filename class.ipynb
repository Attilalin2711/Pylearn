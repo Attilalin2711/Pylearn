{
 "cells": [
  {
   "cell_type": "markdown",
   "metadata": {
    "collapsed": true,
    "pycharm": {
     "name": "#%% md\n"
    }
   },
   "source": [
    "#### ∗ 類別 (Class)\n",
    "#### ▸ 每個物件都是某個類別 (Class) 所產生的一個實例 (Instance)，就好像工廠裡一個模具可以產生許多相同規格的產品一般：模具就是類別，產品就是實例\n",
    "#### ▸ 類別裡可包含屬性 (Attribute) 及方法 (Method)\n",
    "#### ✶ 屬性：儲存物件的資訊，也就是''變數''\n",
    "#### ✶ 方法：操作物件的資訊，也就是''函式''"
   ]
  },
  {
   "cell_type": "markdown",
   "source": [
    "# 創建類別"
   ],
   "metadata": {
    "collapsed": false,
    "pycharm": {
     "name": "#%% md\n"
    }
   }
  },
  {
   "cell_type": "code",
   "execution_count": 5,
   "outputs": [],
   "source": [
    "#每個物件都是某個類別 (Class) 所產生的一個實例 (Instance)\n",
    "class Circle:\n",
    "    #屬性：儲存物件的資訊，也就是''變數''\n",
    "    cx = 0\n",
    "    cy = 0\n",
    "    radius = 0\n",
    "    #方法：操作物件的資訊，也就是''函式''\n",
    "    def setColor(self,color):\n",
    "        #在方法中存取物件屬性需在屬性名稱前加上 self.，此例中只要執行 setColor() 方法，就會動態新增一個 color 屬性\n",
    "        self.color = color"
   ],
   "metadata": {
    "collapsed": false,
    "pycharm": {
     "name": "#%%\n",
     "is_executing": false
    }
   }
  },
  {
   "cell_type": "markdown",
   "source": [
    "# 產生物件"
   ],
   "metadata": {
    "collapsed": false,
    "pycharm": {
     "name": "#%% md\n"
    }
   }
  },
  {
   "cell_type": "code",
   "execution_count": 6,
   "outputs": [],
   "source": [
    "class Ball(Circle):\n",
    "    cz = 0\n",
    "# 類別名稱為 Ball，繼承自 Circle 類別， 因此擁有該類別裡的所有屬性與方法：cx, cy, radius, setColor()\n",
    "# 本類別另外再定義一個屬性：球心第三維座標 cz"
   ],
   "metadata": {
    "collapsed": false,
    "pycharm": {
     "name": "#%%\n",
     "is_executing": false
    }
   }
  },
  {
   "cell_type": "markdown",
   "source": [
    "# 存取屬性與執行方法"
   ],
   "metadata": {
    "collapsed": false
   }
  },
  {
   "cell_type": "code",
   "execution_count": 7,
   "outputs": [
    {
     "name": "stdout",
     "text": [
      "0\n0\n0\n"
     ],
     "output_type": "stream"
    },
    {
     "traceback": [
      "\u001b[1;31m---------------------------------------------------------------------------\u001b[0m",
      "\u001b[1;31mAttributeError\u001b[0m                            Traceback (most recent call last)",
      "\u001b[1;32m<ipython-input-7-3d4a10643ee7>\u001b[0m in \u001b[0;36m<module>\u001b[1;34m\u001b[0m\n\u001b[0;32m      4\u001b[0m \u001b[0mprint\u001b[0m\u001b[1;33m(\u001b[0m\u001b[0mcircle\u001b[0m\u001b[1;33m.\u001b[0m\u001b[0mcx\u001b[0m\u001b[1;33m)\u001b[0m\u001b[1;33m\u001b[0m\u001b[1;33m\u001b[0m\u001b[0m\n\u001b[0;32m      5\u001b[0m \u001b[0mprint\u001b[0m\u001b[1;33m(\u001b[0m\u001b[0mcircle\u001b[0m\u001b[1;33m.\u001b[0m\u001b[0mcy\u001b[0m\u001b[1;33m)\u001b[0m\u001b[1;33m\u001b[0m\u001b[1;33m\u001b[0m\u001b[0m\n\u001b[1;32m----> 6\u001b[1;33m \u001b[0mprint\u001b[0m\u001b[1;33m(\u001b[0m\u001b[0mcircle\u001b[0m\u001b[1;33m.\u001b[0m\u001b[0mcolor\u001b[0m\u001b[1;33m)\u001b[0m\u001b[1;33m\u001b[0m\u001b[1;33m\u001b[0m\u001b[0m\n\u001b[0m",
      "\u001b[1;31mAttributeError\u001b[0m: 'Circle' object has no attribute 'color'"
     ],
     "ename": "AttributeError",
     "evalue": "'Circle' object has no attribute 'color'",
     "output_type": "error"
    }
   ],
   "source": [
    "#依照類別產生一個實例物件circle\n",
    "circle = Circle()\n",
    "print(circle.radius)\n",
    "print(circle.cx)\n",
    "print(circle.cy)\n",
    "print(circle.color)"
   ],
   "metadata": {
    "collapsed": false,
    "pycharm": {
     "name": "#%%\n",
     "is_executing": false
    }
   }
  },
  {
   "cell_type": "code",
   "execution_count": 8,
   "outputs": [
    {
     "name": "stdout",
     "text": [
      "0\n20\n20\nred\n"
     ],
     "output_type": "stream"
    }
   ],
   "source": [
    "circle.cx = 20\n",
    "circle.cy = 20\n",
    "circle.setColor('red')\n",
    "print(circle.radius)\n",
    "print(circle.cx)\n",
    "print(circle.cy)\n",
    "print(circle.color)"
   ],
   "metadata": {
    "collapsed": false,
    "pycharm": {
     "name": "#%%\n",
     "is_executing": false
    }
   }
  },
  {
   "cell_type": "markdown",
   "source": [
    "# 物件的初始設定\n",
    "#### 在產生物件時可以一併設定屬性：在類別裡加上 __init__() 初始方法，在產生實例時就會自動執行\n",
    "class <className>:\n",
    "    def __init__(self, <parameters>):\n",
    "        ..."
   ],
   "metadata": {
    "collapsed": false,
    "pycharm": {
     "name": "#%% md\n"
    }
   }
  },
  {
   "cell_type": "code",
   "execution_count": 9,
   "outputs": [],
   "source": [
    "class Circle:\n",
    "    def __init__(self,cx,cy,radius):\n",
    "        self.cx = cx\n",
    "        self.cy = cy\n",
    "        self.radius = radius\n",
    "        \n",
    "    def setColor(self,color):\n",
    "        self.color = color"
   ],
   "metadata": {
    "collapsed": false,
    "pycharm": {
     "name": "#%%\n",
     "is_executing": false
    }
   }
  },
  {
   "cell_type": "markdown",
   "source": [
    "#### ✶ __init__() 方法有四個參數，其中 self 是必須的，另外三個 (cx, cy, radius) 是輸入參數，用來設定屬性的初始值\n",
    "#### ✶ 有了初始方法後，在產生物件時就需要提供建構子必要的參數 (不含 self)，例如：\n",
    "#### circle = Circle(10, 20, 30)     # 產生一個圓心位置在 (10, 20)，且半徑為 30 的圓"
   ],
   "metadata": {
    "collapsed": false,
    "pycharm": {
     "name": "#%% md\n"
    }
   }
  },
  {
   "cell_type": "code",
   "execution_count": 10,
   "outputs": [
    {
     "name": "stdout",
     "text": [
      "10\n10\n30\n"
     ],
     "output_type": "stream"
    }
   ],
   "source": [
    "circle = Circle(10,10,30)\n",
    "print(circle.cx)\n",
    "print(circle.cy)\n",
    "print(circle.radius)\n",
    "\n",
    "\n",
    "\n"
   ],
   "metadata": {
    "collapsed": false,
    "pycharm": {
     "name": "#%%\n",
     "is_executing": false
    }
   }
  }
 ],
 "metadata": {
  "language_info": {
   "codemirror_mode": {
    "name": "ipython",
    "version": 2
   },
   "file_extension": ".py",
   "mimetype": "text/x-python",
   "name": "python",
   "nbconvert_exporter": "python",
   "pygments_lexer": "ipython2",
   "version": "2.7.6"
  },
  "kernelspec": {
   "name": "python3",
   "language": "python",
   "display_name": "Python 3"
  },
  "pycharm": {
   "stem_cell": {
    "cell_type": "raw",
    "source": [],
    "metadata": {
     "collapsed": false
    }
   }
  }
 },
 "nbformat": 4,
 "nbformat_minor": 0
}