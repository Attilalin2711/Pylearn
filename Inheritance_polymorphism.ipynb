{
 "cells": [
  {
   "cell_type": "markdown",
   "metadata": {
    "collapsed": true,
    "pycharm": {
     "name": "#%% md\n"
    }
   },
   "source": [
    "# 繼承"
   ]
  },
  {
   "cell_type": "markdown",
   "source": [
    "### 在面相對象編輯中,當已經創建了一個類,然又想再創建一個相似的類,例如添加幾個方法,或者修改原來的方法,此時不須從頭開始,可以從原來的類生成一個新的類,原本的類稱為''父類''或''基類'',而生成的類稱為''子類'',子類繼承了父類所有的數據與方法"
   ],
   "metadata": {
    "collapsed": false,
    "pycharm": {
     "name": "#%% md\n"
    }
   }
  },
  {
   "cell_type": "code",
   "execution_count": 1,
   "outputs": [],
   "source": [
    "class Animal(object):\n",
    "    def __init__(self, name):\n",
    "        self.name = name\n",
    "    def greet(self):\n",
    "        print('Hello, I am %s.' % self.name)\n",
    "class Dog(object):\n",
    "    def __init__(self, name):\n",
    "        self.name = name\n",
    "    def greet(self):\n",
    "        print('WangWang.., I am %s. ' % self.name)"
   ],
   "metadata": {
    "collapsed": false,
    "pycharm": {
     "name": "#%%\n",
     "is_executing": false
    }
   }
  },
  {
   "cell_type": "markdown",
   "source": [
    "### 可以看到，Dog類和Animal類幾乎是一樣的，只是greet方法不一樣，我們完全沒必要創建一個新的類，而是從Animal類派生出一個新的類："
   ],
   "metadata": {
    "collapsed": false,
    "pycharm": {
     "name": "#%% md\n"
    }
   }
  },
  {
   "cell_type": "code",
   "execution_count": 5,
   "outputs": [],
   "source": [
    "class Animal(object):\n",
    "    def __init__(self,name):\n",
    "        self.name = name\n",
    "    def greet(self):\n",
    "        print('Hello, I am %s'%self.name)\n",
    "class Dog(Animal):\n",
    "    def greet(self): #對父類方法進行修改\n",
    "        print('wangwang...,i am %s' % self.name)\n",
    "    def run(self):   #添加新的方法\n",
    "        print('i am running~')"
   ],
   "metadata": {
    "collapsed": false,
    "pycharm": {
     "name": "#%%\n",
     "is_executing": false
    }
   }
  },
  {
   "cell_type": "code",
   "execution_count": 2,
   "outputs": [
    {
     "name": "stdout",
     "text": [
      "Hello, I am animal\n"
     ],
     "output_type": "stream"
    }
   ],
   "source": [
    "animal = Animal('animal') #創建animal實例\n",
    "animal.greet()"
   ],
   "metadata": {
    "collapsed": false,
    "pycharm": {
     "name": "#%%\n",
     "is_executing": false
    }
   }
  },
  {
   "cell_type": "markdown",
   "source": [
    "### Dog類是從Animal類繼承而來,Dog類自動獲得Animal類所有數據和方法,而且還可以對父類進行修改"
   ],
   "metadata": {
    "collapsed": false,
    "pycharm": {
     "name": "#%% md\n"
    }
   }
  },
  {
   "cell_type": "code",
   "execution_count": 4,
   "outputs": [
    {
     "name": "stdout",
     "text": [
      "wangwang...,i am dog\n"
     ],
     "output_type": "stream"
    }
   ],
   "source": [
    "dog = Dog('dog')\n",
    "dog.greet()"
   ],
   "metadata": {
    "collapsed": false,
    "pycharm": {
     "name": "#%%\n",
     "is_executing": false
    }
   }
  },
  {
   "cell_type": "markdown",
   "source": [
    "# 多態\n",
    "### 多態的概念其實不難理解,它是\n",
    "### 指'''對不同類型的變量進行相同的操作,他會根據對象(或類)類型的不同而表現出不同的行為'''\n",
    "### 事實上,我們經常用到多態的性質 例如以下可以看到，我們對兩個整數進行+操作，會返回它們的和，對兩個字符進行相同的+操作，會返回拼接後的字符串。也就是說，不同類型的對像對同一消息會作出不同的響應。"
   ],
   "metadata": {
    "collapsed": false,
    "pycharm": {
     "name": "#%% md\n"
    }
   }
  },
  {
   "cell_type": "code",
   "execution_count": 2,
   "outputs": [
    {
     "name": "stdout",
     "text": [
      "3\nab\n"
     ],
     "output_type": "stream"
    }
   ],
   "source": [
    "print(1+2)\n",
    "print('a'+'b')"
   ],
   "metadata": {
    "collapsed": false,
    "pycharm": {
     "name": "#%%\n",
     "is_executing": false
    }
   }
  },
  {
   "cell_type": "markdown",
   "source": [
    "### 再看看類的例子"
   ],
   "metadata": {
    "collapsed": false,
    "pycharm": {
     "name": "#%% md\n"
    }
   }
  },
  {
   "cell_type": "code",
   "execution_count": 5,
   "outputs": [],
   "source": [
    "class Animal(object):\n",
    "    def __init__(self,name):\n",
    "        self.name = name\n",
    "    def greet(self):\n",
    "        print('Hello, I am %s.' % self.name)\n",
    "        \n",
    "class Dog(Animal):\n",
    "    def greet(self):\n",
    "        print('Wang Wang!, I am %s'%self.name)\n",
    "\n",
    "class Cat(Animal):\n",
    "    def greet(self):\n",
    "        print('Miao~, I am %s'%self.name)\n",
    "        \n",
    "def hello(animal):\n",
    "    animal.greet()"
   ],
   "metadata": {
    "collapsed": false,
    "pycharm": {
     "name": "#%%\n",
     "is_executing": false
    }
   }
  },
  {
   "cell_type": "code",
   "execution_count": 6,
   "outputs": [
    {
     "name": "stdout",
     "text": [
      "Wang Wang!, I am dog\nNone\nMiao~, I am cat\nNone\n"
     ],
     "output_type": "stream"
    }
   ],
   "source": [
    "dog = Dog('dog')\n",
    "print(hello(dog))\n",
    "cat = Cat('cat')\n",
    "print(hello(cat))"
   ],
   "metadata": {
    "collapsed": false,
    "pycharm": {
     "name": "#%%\n",
     "is_executing": false
    }
   }
  },
  {
   "cell_type": "markdown",
   "source": [
    "### 可以看到，cat和dog是兩個不同的對象，對它們調用greet方法，它們會自動調用實際類型的greet方法，作出不同的響應。這就是多態的魅力。"
   ],
   "metadata": {
    "collapsed": false,
    "pycharm": {
     "name": "#%% md\n"
    }
   }
  },
  {
   "cell_type": "markdown",
   "source": [
    "# Super用法\n",
    "### 在類的繼承中，如果重定義某個方法，該方法會覆蓋父類的同名方法，但有時，我們希望能同時實現父類的功能，這時，我們就需要調用父類的方法了，可通過使用super來實現，比如："
   ],
   "metadata": {
    "collapsed": false
   }
  },
  {
   "cell_type": "code",
   "execution_count": 8,
   "outputs": [],
   "source": [
    "class Animal(object):\n",
    "    def __init__(self, name):\n",
    "        self.name = name\n",
    "    def greet(self):\n",
    "        print ('Hello, I am %s.' % self.name)\n",
    "\n",
    "class Dog(Animal):\n",
    "    def greet(self):\n",
    "        super(Dog, self).greet()   # Python3 可使用 super().greet()\n",
    "        print('WangWang...')"
   ],
   "metadata": {
    "collapsed": false,
    "pycharm": {
     "name": "#%%\n",
     "is_executing": false
    }
   }
  },
  {
   "cell_type": "markdown",
   "source": [
    "### 在上面，Animal是父類，Dog是子類，我們在Dog類重定義了greet方法，為了能同時實現父類的功能，我們又調用了父類的方法，看下面的使用："
   ],
   "metadata": {
    "collapsed": false,
    "pycharm": {
     "name": "#%% md\n"
    }
   }
  },
  {
   "cell_type": "code",
   "execution_count": 9,
   "outputs": [
    {
     "name": "stdout",
     "text": [
      "Hello, I am Dog.\nWangWang...\n"
     ],
     "output_type": "stream"
    }
   ],
   "source": [
    "dog = Dog('Dog')\n",
    "dog.greet()"
   ],
   "metadata": {
    "collapsed": false,
    "pycharm": {
     "name": "#%%\n",
     "is_executing": false
    }
   }
  },
  {
   "cell_type": "markdown",
   "source": [
    "### super 的一個最常見用法可以說是在子類中調用父類的初始化方法了，比如："
   ],
   "metadata": {
    "collapsed": false,
    "pycharm": {
     "name": "#%% md\n"
    }
   }
  },
  {
   "cell_type": "code",
   "execution_count": 23,
   "outputs": [],
   "source": [
    "class Base(object):\n",
    "    def __init__(self, a, b):\n",
    "        self.a = a\n",
    "        self.b = b\n",
    "\n",
    "class A(Base):\n",
    "    def __init__(self, a, b, c):\n",
    "        super(A, self).__init__(a, b)  # Python3 可使用 super().__init__(a, b)\n",
    "        self.c = c"
   ],
   "metadata": {
    "collapsed": false,
    "pycharm": {
     "name": "#%%\n",
     "is_executing": false
    }
   }
  },
  {
   "cell_type": "code",
   "execution_count": 24,
   "outputs": [
    {
     "data": {
      "text/plain": "[__main__.A, __main__.Base, object]"
     },
     "metadata": {},
     "output_type": "execute_result",
     "execution_count": 24
    }
   ],
   "source": [
    "A.mro()"
   ],
   "metadata": {
    "collapsed": false,
    "pycharm": {
     "name": "#%%\n",
     "is_executing": false
    }
   }
  },
  {
   "cell_type": "markdown",
   "source": [
    "### 根據super工作原理, 根據mro列表依序檢查,因此可以說是在子類調用父類的初始化方法"
   ],
   "metadata": {
    "collapsed": false,
    "pycharm": {
     "name": "#%%　md\n",
     "is_executing": false
    }
   }
  },
  {
   "cell_type": "markdown",
   "source": [
    "# 深入super"
   ],
   "metadata": {
    "collapsed": false,
    "pycharm": {
     "name": "#%% md\n"
    }
   }
  },
  {
   "cell_type": "markdown",
   "source": [
    "### 看了上面的使用，你可能會覺得super的使用很簡單，無非就是獲取了父類，並調用父類的方法。其實，在上面的情況下，super獲得的類剛好是父類，但在其他情況就不一定了，super其實和父類沒有實質性的關聯。"
   ],
   "metadata": {
    "collapsed": false,
    "pycharm": {
     "name": "#%% md\n"
    }
   }
  },
  {
   "cell_type": "code",
   "execution_count": 19,
   "outputs": [],
   "source": [
    "class Base(object):\n",
    "    def __init__(self):\n",
    "        print (\"enter Base\")\n",
    "        print (\"leave Base\")\n",
    "\n",
    "class A(Base):\n",
    "    def __init__(self):\n",
    "        print (\"enter A\")\n",
    "        super(A, self).__init__()\n",
    "        print (\"leave A\")\n",
    "\n",
    "class B(Base):\n",
    "    def __init__(self):\n",
    "        print (\"enter B\")\n",
    "        super(B, self).__init__()\n",
    "        print (\"leave B\")\n",
    "\n",
    "class C(A, B):\n",
    "    def __init__(self):\n",
    "        print (\"enter C\")\n",
    "        super(C, self).__init__()\n",
    "        print (\"leave C\")"
   ],
   "metadata": {
    "collapsed": false,
    "pycharm": {
     "name": "#%%\n",
     "is_executing": false
    }
   }
  },
  {
   "cell_type": "markdown",
   "source": [
    "### 其中，Base 是父類，A, B 繼承自Base, C 繼承自A, B，它們的繼承關係是一個典型的『菱形繼承』，如下：\n",
    "      Base\n",
    "      /  \\\n",
    "     /    \\\n",
    "    A      B\n",
    "     \\    /\n",
    "      \\  /\n",
    "       C"
   ],
   "metadata": {
    "collapsed": false,
    "pycharm": {
     "name": "#%% md\n"
    }
   }
  },
  {
   "cell_type": "code",
   "execution_count": 20,
   "outputs": [
    {
     "name": "stdout",
     "text": [
      "enter C\nenter A\nenter B\nenter Base\nleave Base\nleave B\nleave A\nleave C\n<__main__.C object at 0x0000027EE4883470>\n"
     ],
     "output_type": "stream"
    }
   ],
   "source": [
    "c = C()\n",
    "print(c)"
   ],
   "metadata": {
    "collapsed": false,
    "pycharm": {
     "name": "#%%\n",
     "is_executing": false
    }
   }
  },
  {
   "cell_type": "markdown",
   "source": [
    "### 如果認為super代表『調用父類的方法』，那你很可能會疑惑為什麼enter A的下一句不是enter Base而是enter B。原因是，super和父類沒有實質性的關聯，現在讓我們搞清super是怎麼運作的。"
   ],
   "metadata": {
    "collapsed": false,
    "pycharm": {
     "name": "#%% md\n"
    }
   }
  },
  {
   "cell_type": "markdown",
   "source": [
    "# MRO列表\n",
    "### 事實上，對於你定義的每一個類，Python會計算出一個方法解析順序（Method Resolution Order, MRO）列表，它代表了類繼承的順序，我們可以使用下面的方式獲得某個類的MRO列表：\n",
    "### 那這個MRO列表的順序是怎麼定的呢，它是通過一個C3線性化算法來實現的，這裡我們就不去深究這個算法了，感興趣的讀者可以自己去了解一下，總的來說，一個類的MRO列表就是合併所有父類的MRO列表，並遵循以下三條原則：\n",
    "\n",
    "### 1.子類永遠在父類前面\n",
    "### 2.如果有多個父類，會根據它們在列表中的順序被檢查\n",
    "### 3.如果對下一個類存在兩個合法的選擇，選擇第一個父類"
   ],
   "metadata": {
    "collapsed": false,
    "pycharm": {
     "name": "#%% md\n"
    }
   }
  },
  {
   "cell_type": "code",
   "execution_count": 22,
   "outputs": [
    {
     "data": {
      "text/plain": "[__main__.C, __main__.A, __main__.B, __main__.Base, object]"
     },
     "metadata": {},
     "output_type": "execute_result",
     "execution_count": 22
    }
   ],
   "source": [
    "C.mro()"
   ],
   "metadata": {
    "collapsed": false,
    "pycharm": {
     "name": "#%% \n",
     "is_executing": false
    }
   }
  },
  {
   "cell_type": "markdown",
   "source": [
    "# Super　工作原理\n",
    "def super(cls, inst):\n",
    "    mro = inst.__class__.mro()\n",
    "    return mro[mro.index(cls) + 1]\n",
    "### 其中，cls 代表類，inst 代表實例，上面的代碼做了兩件事：\n",
    "\n",
    "### 1.獲取inst 的MRO 列表\n",
    "### 2.查找cls 在當前MRO 列表中的index, 並返回它的下一個類，即mro[index + 1]\n",
    "### 當你使用super(cls, inst)時，Python會在inst的MRO列表上搜索cls的下一個類。"
   ],
   "metadata": {
    "collapsed": false,
    "pycharm": {
     "name": "#%% md\n"
    }
   }
  },
  {
   "cell_type": "markdown",
   "source": [
    "# 小結\n",
    "### 繼承可以拿到父類的所有數據和方法，子類可以重寫父類的方法，也可以新增自己特有的方法。\n",
    "### 有了繼承，才有了多態，不同類的對像對同一消息會作出不同的相應。\n",
    "### 事實上，super和父類沒有實質性的關聯。\n",
    "### super(cls, inst) 獲得的是cls 在inst 的MRO 列表中的下一個類。"
   ],
   "metadata": {
    "collapsed": false
   }
  }
 ],
 "metadata": {
  "language_info": {
   "codemirror_mode": {
    "name": "ipython",
    "version": 2
   },
   "file_extension": ".py",
   "mimetype": "text/x-python",
   "name": "python",
   "nbconvert_exporter": "python",
   "pygments_lexer": "ipython2",
   "version": "2.7.6"
  },
  "kernelspec": {
   "name": "python3",
   "language": "python",
   "display_name": "Python 3"
  },
  "pycharm": {
   "stem_cell": {
    "cell_type": "raw",
    "source": [],
    "metadata": {
     "collapsed": false
    }
   }
  }
 },
 "nbformat": 4,
 "nbformat_minor": 0
}